{
  "nbformat": 4,
  "nbformat_minor": 0,
  "metadata": {
    "colab": {
      "name": "Keras_DCGAN.ipynb",
      "provenance": [],
      "collapsed_sections": [],
      "toc_visible": true
    },
    "kernelspec": {
      "name": "python3",
      "display_name": "Python 3"
    },
    "accelerator": "GPU"
  },
  "cells": [
    {
      "cell_type": "code",
      "metadata": {
        "id": "s1qY7p6wHIHv",
        "colab_type": "code",
        "colab": {}
      },
      "source": [
        "#!rm -rf emoji-data\n",
        "#!rm -rf drive/My\\ Drive/Colab\\ Notebooks/output/*"
      ],
      "execution_count": 0,
      "outputs": []
    },
    {
      "cell_type": "code",
      "metadata": {
        "id": "fvcbPs4JN-ot",
        "colab_type": "code",
        "outputId": "8ff1feff-8fe4-4973-c9e6-3bc8b24160a7",
        "colab": {
          "base_uri": "https://localhost:8080/",
          "height": 34
        }
      },
      "source": [
        "!git clone https://github.com/iamcal/emoji-data.git"
      ],
      "execution_count": 74,
      "outputs": [
        {
          "output_type": "stream",
          "text": [
            "fatal: destination path 'emoji-data' already exists and is not an empty directory.\n"
          ],
          "name": "stdout"
        }
      ]
    },
    {
      "cell_type": "code",
      "metadata": {
        "id": "7rMpV0t7S9uB",
        "colab_type": "code",
        "colab": {}
      },
      "source": [
        "from __future__ import print_function, division\n",
        "\n",
        "from keras.datasets import mnist\n",
        "from keras.layers import Input, Dense, Reshape, Flatten, Dropout\n",
        "from keras.layers import BatchNormalization, Activation, ZeroPadding2D\n",
        "from keras.layers.advanced_activations import LeakyReLU\n",
        "from keras.layers.convolutional import UpSampling2D, Conv2D, Conv2DTranspose\n",
        "from keras.models import Sequential, Model\n",
        "from keras.optimizers import Adam\n",
        "from google.colab import drive, files\n",
        "from pprint import pprint\n",
        "from PIL import Image\n",
        "from matplotlib import pyplot as plt\n",
        "from scipy.interpolate import make_interp_spline, BSpline\n",
        "\n",
        "import sys\n",
        "import numpy as np\n",
        "import json\n",
        "import glob\n",
        "import random\n",
        "import os"
      ],
      "execution_count": 0,
      "outputs": []
    },
    {
      "cell_type": "code",
      "metadata": {
        "id": "TZZPyK_9zv9q",
        "colab_type": "code",
        "outputId": "acface52-bf46-4bc0-87df-f3d156036c0b",
        "colab": {
          "base_uri": "https://localhost:8080/",
          "height": 34
        }
      },
      "source": [
        "from google.colab import drive\n",
        "drive.mount('/content/drive')"
      ],
      "execution_count": 76,
      "outputs": [
        {
          "output_type": "stream",
          "text": [
            "Drive already mounted at /content/drive; to attempt to forcibly remount, call drive.mount(\"/content/drive\", force_remount=True).\n"
          ],
          "name": "stdout"
        }
      ]
    },
    {
      "cell_type": "code",
      "metadata": {
        "id": "jO428NLVQwB8",
        "colab_type": "code",
        "outputId": "f4dc2a0f-6dc8-4b27-b9f6-75ee48128619",
        "colab": {
          "base_uri": "https://localhost:8080/",
          "height": 34
        }
      },
      "source": [
        "# filter only person emojis without tones\n",
        "with open('emoji-data/emoji.json') as data_file:\n",
        "    emojis = json.load(data_file)\n",
        "\n",
        "#smileys = [e for e in emojis if e[\"category\"] != \"Symbols\" and e[\"category\"] != \"Flags\" and e[\"category\"] != \"Regional\"]\n",
        "smileys = [e for e in emojis if e[\"category\"] == \"Smileys & People\"]\n",
        "\n",
        "# filter None value\n",
        "smileys = [e for e in smileys if e[\"name\"]]\n",
        "\n",
        "# filter for those with \"face\" in the name\n",
        "smileys = [e for e in smileys if (\"FACE\" in e[\"name\"])]\n",
        "\n",
        "pprint(\"minimized dictionary: {} left out of {} emojis\".format(len(smileys), len(emojis)))\n",
        "# pprint(smileys[0])"
      ],
      "execution_count": 77,
      "outputs": [
        {
          "output_type": "stream",
          "text": [
            "'minimized dictionary: 104 left out of 1643 emojis'\n"
          ],
          "name": "stdout"
        }
      ]
    },
    {
      "cell_type": "code",
      "metadata": {
        "id": "qZ7SSuN-QfjU",
        "colab_type": "code",
        "colab": {}
      },
      "source": [
        "paths = [\n",
        "    \"emoji-data/img-apple-64\",\n",
        "    \"emoji-data/img-emojione-64\",\n",
        "    \"emoji-data/img-facebook-64\",\n",
        "    \"emoji-data/img-google-64\",\n",
        "    \"emoji-data/img-messenger-64\",\n",
        "    \"emoji-data/img-twitter-64\"\n",
        "]\n",
        "filenames = [s[\"image\"] for s in smileys]\n",
        "filepaths = []\n",
        "for p in paths:\n",
        "    image_paths = glob.glob(p + \"/*.png\")\n",
        "    filtered = [p for p in image_paths if p.split(\"/\")[-1] in filenames]\n",
        "    filepaths = filepaths + filtered\n",
        "# filepaths"
      ],
      "execution_count": 0,
      "outputs": []
    },
    {
      "cell_type": "markdown",
      "metadata": {
        "id": "n3MJwiSYTOkb",
        "colab_type": "text"
      },
      "source": [
        "## Convert images to Numpy array"
      ]
    },
    {
      "cell_type": "code",
      "metadata": {
        "id": "Lxg0OtI0ZANU",
        "colab_type": "code",
        "colab": {}
      },
      "source": [
        "def load_image( infilename ) :\n",
        "    png = Image.open( infilename )\n",
        "    png.load()\n",
        "    # Change transparent pixel to white\n",
        "    background = Image.new(\"RGB\", png.size, (255, 255, 255))\n",
        "\n",
        "    # Strip the transparent channel\n",
        "    # Now the image has only 3 channels\n",
        "    background.paste(png, mask=png.getchannel('A'))\n",
        "    # Convert to numpy array\n",
        "    background = np.asarray( background, dtype=\"int16\" )\n",
        "    \n",
        "    return background"
      ],
      "execution_count": 0,
      "outputs": []
    },
    {
      "cell_type": "code",
      "metadata": {
        "id": "bn2FVs3MZGmd",
        "colab_type": "code",
        "outputId": "d2db6f1b-ea93-43e4-f4fb-1c68c7cc4710",
        "colab": {
          "base_uri": "https://localhost:8080/",
          "height": 34
        }
      },
      "source": [
        "data = np.empty((0, 64, 64, 3), int)\n",
        "for file in filepaths:\n",
        "  img = load_image(file)\n",
        "  data = np.append(data, [img], axis=0)\n",
        "\n",
        "print(data.shape)"
      ],
      "execution_count": 80,
      "outputs": [
        {
          "output_type": "stream",
          "text": [
            "(464, 64, 64, 3)\n"
          ],
          "name": "stdout"
        }
      ]
    },
    {
      "cell_type": "code",
      "metadata": {
        "id": "7IqWZQpa3gHh",
        "colab_type": "code",
        "colab": {}
      },
      "source": [
        "plt.imshow(data[random.randint(0, data.shape[0] - 1)], interpolation='nearest')\n",
        "plt.show()\n",
        "# fig, axs = plt.subplots(r, c)\n",
        "# r = 58\n",
        "# c = 8\n",
        "# for i in range(r):\n",
        "#     for j in range(c):\n",
        "#         axs[i,j].imshow(data[i * c + j])\n",
        "#         axs[i,j].axis('off')\n",
        "\n",
        "# fig.savefig('foo1.png', dpi=1200)\n",
        "# plt.close()"
      ],
      "execution_count": 0,
      "outputs": []
    },
    {
      "cell_type": "code",
      "metadata": {
        "id": "GesYabLW14NV",
        "colab_type": "code",
        "colab": {}
      },
      "source": [
        "files.download('foo1.png')"
      ],
      "execution_count": 0,
      "outputs": []
    },
    {
      "cell_type": "code",
      "metadata": {
        "id": "QuSKabKliRhJ",
        "colab_type": "code",
        "colab": {}
      },
      "source": [
        "\n",
        "# Ramdomly print an image\n",
        "# plt.imshow(data[random.randint(0, data.shape[0] - 1)], interpolation='nearest')\n",
        "# plt.show()"
      ],
      "execution_count": 0,
      "outputs": []
    },
    {
      "cell_type": "code",
      "metadata": {
        "id": "XK6Ksx3wOHts",
        "colab_type": "code",
        "colab": {}
      },
      "source": [
        "class DCGAN():\n",
        "    def __init__(self):\n",
        "        # Input shape\n",
        "        self.img_rows = 64\n",
        "        self.img_cols = 64\n",
        "        self.channels = 3\n",
        "        self.img_shape = (self.img_rows, self.img_cols, self.channels)\n",
        "        self.latent_dim = 100\n",
        "\n",
        "        optimizer = Adam(0.0001, 0.5)\n",
        "\n",
        "        # Build and compile the discriminator\n",
        "        self.discriminator = self.build_discriminator()\n",
        "        self.discriminator.compile(loss='binary_crossentropy',\n",
        "            optimizer=optimizer,\n",
        "            metrics=['accuracy'])\n",
        "\n",
        "        # Build the generator\n",
        "        self.generator = self.build_generator()\n",
        "\n",
        "        # The generator takes noise as input and generates imgs\n",
        "        z = Input(shape=(self.latent_dim,))\n",
        "        img = self.generator(z)\n",
        "\n",
        "        # For the combined model we will only train the generator\n",
        "        self.discriminator.trainable = False\n",
        "\n",
        "        # The discriminator takes generated images as input and determines validity\n",
        "        valid = self.discriminator(img)\n",
        "\n",
        "        # The combined model  (stacked generator and discriminator)\n",
        "        # Trains the generator to fool the discriminator\n",
        "        self.combined = Model(z, valid)\n",
        "        self.combined.compile(Adam(0.0002, 0.5), loss='binary_crossentropy')\n",
        "\n",
        "    def build_generator(self):\n",
        "\n",
        "        model = Sequential()\n",
        "        model.name=\"Generator\"\n",
        "\n",
        "        model.add(Dense(512 * 8 * 8, activation=\"relu\", input_dim=self.latent_dim))\n",
        "        model.add(Reshape((8, 8, 512)))\n",
        "\n",
        "        model.add(Conv2DTranspose(128, 5, strides=(2, 2), padding=\"same\"))\n",
        "        model.add(BatchNormalization(momentum=0.8))\n",
        "        model.add(LeakyReLU(alpha=0.2))\n",
        "\n",
        "        model.add(Conv2DTranspose(64, 5, strides=(2, 2), padding=\"same\"))\n",
        "        model.add(BatchNormalization(momentum=0.8))\n",
        "        model.add(LeakyReLU(alpha=0.2))\n",
        "\n",
        "        model.add(Conv2DTranspose(self.channels, kernel_size=5, strides=(2, 2), padding=\"same\"))\n",
        "        model.add(Activation(\"tanh\"))\n",
        "\n",
        "        model.summary()\n",
        "\n",
        "        noise = Input(shape=(self.latent_dim,))\n",
        "        img = model(noise)\n",
        "\n",
        "        return Model(noise, img)\n",
        "\n",
        "    def build_discriminator(self):\n",
        "\n",
        "        model = Sequential()\n",
        "        model.name=\"Discriminator\"\n",
        "\n",
        "        model.add(Conv2D(64, kernel_size=5, strides=2, input_shape=self.img_shape, padding=\"same\"))\n",
        "        model.add(LeakyReLU(alpha=0.2))\n",
        "        model.add(Dropout(0.25))\n",
        "\n",
        "        model.add(Conv2D(128, kernel_size=5, strides=2, padding=\"same\"))\n",
        "        model.add(BatchNormalization(momentum=0.8))\n",
        "        model.add(LeakyReLU(alpha=0.2))\n",
        "        model.add(Dropout(0.25))\n",
        "\n",
        "        model.add(Conv2D(256, kernel_size=5, strides=2, padding=\"same\"))\n",
        "        model.add(BatchNormalization(momentum=0.8))\n",
        "        model.add(LeakyReLU(alpha=0.2))\n",
        "        model.add(Dropout(0.25))\n",
        "\n",
        "        model.add(Flatten())\n",
        "        model.add(Dense(1, activation='sigmoid'))\n",
        "\n",
        "        model.summary()\n",
        "\n",
        "        img = Input(shape=self.img_shape)\n",
        "        validity = model(img)\n",
        "\n",
        "        return Model(img, validity)\n",
        "\n",
        "    def train(self, epochs, batch_size=128, save_interval=50):\n",
        "\n",
        "        # Load the dataset\n",
        "        X_train = data\n",
        "\n",
        "        # Rescale -1 to 1\n",
        "        X_train = X_train / 127.5 - 1.\n",
        "\n",
        "        # Adversarial ground truths\n",
        "        valid = np.ones((batch_size, 1))\n",
        "        fake = np.zeros((batch_size, 1))\n",
        "\n",
        "        # Store training losses here\n",
        "        losses = []\n",
        "\n",
        "        for epoch in range(epochs):\n",
        "\n",
        "            # ---------------------\n",
        "            #  Train Discriminator\n",
        "            # ---------------------\n",
        "\n",
        "            # Select a random half of images\n",
        "            idx = np.random.randint(0, X_train.shape[0], batch_size)\n",
        "            imgs = X_train[idx]\n",
        "\n",
        "            # Sample noise and generate a batch of new images\n",
        "            noise = np.random.normal(0, 1, (batch_size, self.latent_dim))\n",
        "            gen_imgs = self.generator.predict(noise)\n",
        "\n",
        "            # Train the discriminator (real classified as ones and generated as zeros)\n",
        "            d_loss_real = self.discriminator.train_on_batch(imgs, valid)\n",
        "            d_loss_fake = self.discriminator.train_on_batch(gen_imgs, fake)\n",
        "            d_loss = 0.5 * np.add(d_loss_real, d_loss_fake)\n",
        "\n",
        "            # ---------------------\n",
        "            #  Train Generator\n",
        "            # ---------------------\n",
        "\n",
        "            # Train the generator (wants discriminator to mistake images as real)\n",
        "            g_loss = self.combined.train_on_batch(noise, valid)\n",
        "\n",
        "            # Store the losses\n",
        "            losses.append((d_loss[0], g_loss))\n",
        "\n",
        "            # Plot the progress\n",
        "            if epoch % 100 == 0:\n",
        "              print (\"%d [D loss: %f, acc.: %.2f%%] [G loss: %f]\" % (epoch, d_loss[0], 100*d_loss[1], g_loss))\n",
        "\n",
        "            # If at save interval => save generated image samples\n",
        "            if epoch % save_interval == 0:\n",
        "                self.save_imgs(epoch)\n",
        "\n",
        "        return losses\n",
        "\n",
        "    def save_imgs(self, epoch):\n",
        "        if epoch is 0:\n",
        "          return\n",
        "        r, c = 5, 5\n",
        "        noise = np.random.normal(0, 1, (r * c, self.latent_dim))\n",
        "        gen_imgs = self.generator.predict(noise)\n",
        "\n",
        "        # # Rescale images 0 - 1\n",
        "        # gen_imgs = 0.5 * gen_imgs + 0.5\n",
        "        gen_imgs = (gen_imgs + 1) * 127.5\n",
        "\n",
        "        fig, axs = plt.subplots(r, c)\n",
        "        cnt = 0\n",
        "        for i in range(r):\n",
        "            for j in range(c):\n",
        "                axs[i,j].imshow(gen_imgs[cnt, :,:,:].astype(int))\n",
        "                axs[i,j].axis('off')\n",
        "                cnt += 1\n",
        "        \n",
        "        fig.savefig('/content/drive/My Drive/Colab Notebooks/All output/output3/{}.png'.format(epoch))\n",
        "        plt.close()"
      ],
      "execution_count": 0,
      "outputs": []
    },
    {
      "cell_type": "code",
      "metadata": {
        "id": "JGa5aXDnOPpF",
        "colab_type": "code",
        "outputId": "5bc64613-72e3-4275-cfcd-9dd31a662c83",
        "colab": {
          "base_uri": "https://localhost:8080/",
          "height": 1000
        }
      },
      "source": [
        "if __name__ == '__main__':\n",
        "    dcgan = DCGAN()\n",
        "    losses = dcgan.train(epochs=10000, batch_size=32, save_interval=100)"
      ],
      "execution_count": 85,
      "outputs": [
        {
          "output_type": "stream",
          "text": [
            "WARNING:tensorflow:From /usr/local/lib/python3.6/dist-packages/keras/backend/tensorflow_backend.py:66: The name tf.get_default_graph is deprecated. Please use tf.compat.v1.get_default_graph instead.\n",
            "\n",
            "WARNING:tensorflow:From /usr/local/lib/python3.6/dist-packages/keras/backend/tensorflow_backend.py:541: The name tf.placeholder is deprecated. Please use tf.compat.v1.placeholder instead.\n",
            "\n",
            "WARNING:tensorflow:From /usr/local/lib/python3.6/dist-packages/keras/backend/tensorflow_backend.py:4432: The name tf.random_uniform is deprecated. Please use tf.random.uniform instead.\n",
            "\n",
            "WARNING:tensorflow:From /usr/local/lib/python3.6/dist-packages/keras/backend/tensorflow_backend.py:148: The name tf.placeholder_with_default is deprecated. Please use tf.compat.v1.placeholder_with_default instead.\n",
            "\n",
            "WARNING:tensorflow:From /usr/local/lib/python3.6/dist-packages/keras/backend/tensorflow_backend.py:3733: calling dropout (from tensorflow.python.ops.nn_ops) with keep_prob is deprecated and will be removed in a future version.\n",
            "Instructions for updating:\n",
            "Please use `rate` instead of `keep_prob`. Rate should be set to `rate = 1 - keep_prob`.\n",
            "WARNING:tensorflow:From /usr/local/lib/python3.6/dist-packages/keras/backend/tensorflow_backend.py:190: The name tf.get_default_session is deprecated. Please use tf.compat.v1.get_default_session instead.\n",
            "\n",
            "WARNING:tensorflow:From /usr/local/lib/python3.6/dist-packages/keras/backend/tensorflow_backend.py:197: The name tf.ConfigProto is deprecated. Please use tf.compat.v1.ConfigProto instead.\n",
            "\n",
            "WARNING:tensorflow:From /usr/local/lib/python3.6/dist-packages/keras/backend/tensorflow_backend.py:203: The name tf.Session is deprecated. Please use tf.compat.v1.Session instead.\n",
            "\n",
            "WARNING:tensorflow:From /usr/local/lib/python3.6/dist-packages/keras/backend/tensorflow_backend.py:207: The name tf.global_variables is deprecated. Please use tf.compat.v1.global_variables instead.\n",
            "\n",
            "WARNING:tensorflow:From /usr/local/lib/python3.6/dist-packages/keras/backend/tensorflow_backend.py:216: The name tf.is_variable_initialized is deprecated. Please use tf.compat.v1.is_variable_initialized instead.\n",
            "\n",
            "WARNING:tensorflow:From /usr/local/lib/python3.6/dist-packages/keras/backend/tensorflow_backend.py:223: The name tf.variables_initializer is deprecated. Please use tf.compat.v1.variables_initializer instead.\n",
            "\n",
            "WARNING:tensorflow:From /usr/local/lib/python3.6/dist-packages/keras/backend/tensorflow_backend.py:2041: The name tf.nn.fused_batch_norm is deprecated. Please use tf.compat.v1.nn.fused_batch_norm instead.\n",
            "\n",
            "Model: \"Discriminator\"\n",
            "_________________________________________________________________\n",
            "Layer (type)                 Output Shape              Param #   \n",
            "=================================================================\n",
            "conv2d_1 (Conv2D)            (None, 32, 32, 64)        4864      \n",
            "_________________________________________________________________\n",
            "leaky_re_lu_1 (LeakyReLU)    (None, 32, 32, 64)        0         \n",
            "_________________________________________________________________\n",
            "dropout_1 (Dropout)          (None, 32, 32, 64)        0         \n",
            "_________________________________________________________________\n",
            "conv2d_2 (Conv2D)            (None, 16, 16, 128)       204928    \n",
            "_________________________________________________________________\n",
            "batch_normalization_1 (Batch (None, 16, 16, 128)       512       \n",
            "_________________________________________________________________\n",
            "leaky_re_lu_2 (LeakyReLU)    (None, 16, 16, 128)       0         \n",
            "_________________________________________________________________\n",
            "dropout_2 (Dropout)          (None, 16, 16, 128)       0         \n",
            "_________________________________________________________________\n",
            "conv2d_3 (Conv2D)            (None, 8, 8, 256)         819456    \n",
            "_________________________________________________________________\n",
            "batch_normalization_2 (Batch (None, 8, 8, 256)         1024      \n",
            "_________________________________________________________________\n",
            "leaky_re_lu_3 (LeakyReLU)    (None, 8, 8, 256)         0         \n",
            "_________________________________________________________________\n",
            "dropout_3 (Dropout)          (None, 8, 8, 256)         0         \n",
            "_________________________________________________________________\n",
            "flatten_1 (Flatten)          (None, 16384)             0         \n",
            "_________________________________________________________________\n",
            "dense_1 (Dense)              (None, 1)                 16385     \n",
            "=================================================================\n",
            "Total params: 1,047,169\n",
            "Trainable params: 1,046,401\n",
            "Non-trainable params: 768\n",
            "_________________________________________________________________\n",
            "WARNING:tensorflow:From /usr/local/lib/python3.6/dist-packages/keras/optimizers.py:793: The name tf.train.Optimizer is deprecated. Please use tf.compat.v1.train.Optimizer instead.\n",
            "\n",
            "WARNING:tensorflow:From /usr/local/lib/python3.6/dist-packages/keras/backend/tensorflow_backend.py:3657: The name tf.log is deprecated. Please use tf.math.log instead.\n",
            "\n",
            "WARNING:tensorflow:From /usr/local/lib/python3.6/dist-packages/tensorflow_core/python/ops/nn_impl.py:183: where (from tensorflow.python.ops.array_ops) is deprecated and will be removed in a future version.\n",
            "Instructions for updating:\n",
            "Use tf.where in 2.0, which has the same broadcast rule as np.where\n",
            "Model: \"Generator\"\n",
            "_________________________________________________________________\n",
            "Layer (type)                 Output Shape              Param #   \n",
            "=================================================================\n",
            "dense_2 (Dense)              (None, 32768)             3309568   \n",
            "_________________________________________________________________\n",
            "reshape_1 (Reshape)          (None, 8, 8, 512)         0         \n",
            "_________________________________________________________________\n",
            "conv2d_transpose_1 (Conv2DTr (None, 16, 16, 128)       1638528   \n",
            "_________________________________________________________________\n",
            "batch_normalization_3 (Batch (None, 16, 16, 128)       512       \n",
            "_________________________________________________________________\n",
            "leaky_re_lu_4 (LeakyReLU)    (None, 16, 16, 128)       0         \n",
            "_________________________________________________________________\n",
            "conv2d_transpose_2 (Conv2DTr (None, 32, 32, 64)        204864    \n",
            "_________________________________________________________________\n",
            "batch_normalization_4 (Batch (None, 32, 32, 64)        256       \n",
            "_________________________________________________________________\n",
            "leaky_re_lu_5 (LeakyReLU)    (None, 32, 32, 64)        0         \n",
            "_________________________________________________________________\n",
            "conv2d_transpose_3 (Conv2DTr (None, 64, 64, 3)         4803      \n",
            "_________________________________________________________________\n",
            "activation_1 (Activation)    (None, 64, 64, 3)         0         \n",
            "=================================================================\n",
            "Total params: 5,158,531\n",
            "Trainable params: 5,158,147\n",
            "Non-trainable params: 384\n",
            "_________________________________________________________________\n"
          ],
          "name": "stdout"
        },
        {
          "output_type": "stream",
          "text": [
            "/usr/local/lib/python3.6/dist-packages/keras/engine/training.py:493: UserWarning: Discrepancy between trainable weights and collected trainable weights, did you set `model.trainable` without calling `model.compile` after ?\n",
            "  'Discrepancy between trainable weights and collected trainable'\n"
          ],
          "name": "stderr"
        },
        {
          "output_type": "stream",
          "text": [
            "WARNING:tensorflow:From /usr/local/lib/python3.6/dist-packages/keras/backend/tensorflow_backend.py:1033: The name tf.assign_add is deprecated. Please use tf.compat.v1.assign_add instead.\n",
            "\n",
            "WARNING:tensorflow:From /usr/local/lib/python3.6/dist-packages/keras/backend/tensorflow_backend.py:1020: The name tf.assign is deprecated. Please use tf.compat.v1.assign instead.\n",
            "\n"
          ],
          "name": "stdout"
        },
        {
          "output_type": "stream",
          "text": [
            "/usr/local/lib/python3.6/dist-packages/keras/engine/training.py:493: UserWarning: Discrepancy between trainable weights and collected trainable weights, did you set `model.trainable` without calling `model.compile` after ?\n",
            "  'Discrepancy between trainable weights and collected trainable'\n"
          ],
          "name": "stderr"
        },
        {
          "output_type": "stream",
          "text": [
            "0 [D loss: 0.833593, acc.: 43.75%] [G loss: 0.848673]\n"
          ],
          "name": "stdout"
        },
        {
          "output_type": "stream",
          "text": [
            "/usr/local/lib/python3.6/dist-packages/keras/engine/training.py:493: UserWarning: Discrepancy between trainable weights and collected trainable weights, did you set `model.trainable` without calling `model.compile` after ?\n",
            "  'Discrepancy between trainable weights and collected trainable'\n"
          ],
          "name": "stderr"
        },
        {
          "output_type": "stream",
          "text": [
            "100 [D loss: 0.350763, acc.: 84.38%] [G loss: 2.781069]\n",
            "200 [D loss: 0.214559, acc.: 93.75%] [G loss: 3.439115]\n",
            "300 [D loss: 0.111438, acc.: 98.44%] [G loss: 3.218821]\n",
            "400 [D loss: 0.185402, acc.: 93.75%] [G loss: 3.188602]\n",
            "500 [D loss: 0.232861, acc.: 96.88%] [G loss: 3.672891]\n",
            "600 [D loss: 0.256374, acc.: 89.06%] [G loss: 3.726957]\n",
            "700 [D loss: 0.254718, acc.: 89.06%] [G loss: 3.783978]\n",
            "800 [D loss: 0.318482, acc.: 84.38%] [G loss: 2.966383]\n",
            "900 [D loss: 0.284902, acc.: 90.62%] [G loss: 3.038284]\n",
            "1000 [D loss: 0.165905, acc.: 92.19%] [G loss: 4.110415]\n",
            "1100 [D loss: 0.332452, acc.: 89.06%] [G loss: 3.236193]\n",
            "1200 [D loss: 0.307154, acc.: 82.81%] [G loss: 2.829900]\n",
            "1300 [D loss: 0.212903, acc.: 93.75%] [G loss: 4.407164]\n",
            "1400 [D loss: 0.196748, acc.: 92.19%] [G loss: 4.132071]\n",
            "1500 [D loss: 0.125082, acc.: 98.44%] [G loss: 3.548328]\n",
            "1600 [D loss: 0.104017, acc.: 100.00%] [G loss: 3.561304]\n",
            "1700 [D loss: 0.256472, acc.: 92.19%] [G loss: 4.351307]\n",
            "1800 [D loss: 0.535847, acc.: 73.44%] [G loss: 4.299253]\n",
            "1900 [D loss: 0.149004, acc.: 98.44%] [G loss: 4.308031]\n",
            "2000 [D loss: 0.185160, acc.: 93.75%] [G loss: 3.606606]\n",
            "2100 [D loss: 0.613150, acc.: 65.62%] [G loss: 4.046979]\n",
            "2200 [D loss: 0.126779, acc.: 96.88%] [G loss: 3.601503]\n",
            "2300 [D loss: 0.344442, acc.: 85.94%] [G loss: 3.861547]\n",
            "2400 [D loss: 0.862979, acc.: 53.12%] [G loss: 7.429692]\n",
            "2500 [D loss: 0.099314, acc.: 95.31%] [G loss: 4.250276]\n",
            "2600 [D loss: 0.163593, acc.: 93.75%] [G loss: 4.567263]\n",
            "2700 [D loss: 0.208115, acc.: 92.19%] [G loss: 4.270718]\n",
            "2800 [D loss: 0.073067, acc.: 100.00%] [G loss: 4.385103]\n",
            "2900 [D loss: 0.072416, acc.: 98.44%] [G loss: 4.910379]\n",
            "3000 [D loss: 0.076351, acc.: 96.88%] [G loss: 4.085574]\n",
            "3100 [D loss: 0.080666, acc.: 100.00%] [G loss: 5.404465]\n",
            "3200 [D loss: 0.127784, acc.: 93.75%] [G loss: 4.547328]\n",
            "3300 [D loss: 0.044001, acc.: 100.00%] [G loss: 5.761538]\n",
            "3400 [D loss: 0.042634, acc.: 100.00%] [G loss: 6.197808]\n",
            "3500 [D loss: 0.074099, acc.: 98.44%] [G loss: 5.542908]\n",
            "3600 [D loss: 0.092294, acc.: 96.88%] [G loss: 5.006783]\n",
            "3700 [D loss: 0.125623, acc.: 93.75%] [G loss: 5.648235]\n",
            "3800 [D loss: 0.187817, acc.: 90.62%] [G loss: 6.594835]\n",
            "3900 [D loss: 0.068746, acc.: 98.44%] [G loss: 4.676345]\n",
            "4000 [D loss: 0.036477, acc.: 98.44%] [G loss: 5.218482]\n",
            "4100 [D loss: 0.040446, acc.: 100.00%] [G loss: 5.069747]\n",
            "4200 [D loss: 0.175316, acc.: 92.19%] [G loss: 6.862160]\n",
            "4300 [D loss: 0.024444, acc.: 100.00%] [G loss: 6.564693]\n",
            "4400 [D loss: 0.242034, acc.: 92.19%] [G loss: 3.949001]\n",
            "4500 [D loss: 0.106180, acc.: 96.88%] [G loss: 5.832441]\n",
            "4600 [D loss: 0.063462, acc.: 100.00%] [G loss: 6.066727]\n",
            "4700 [D loss: 0.045040, acc.: 98.44%] [G loss: 5.711465]\n",
            "4800 [D loss: 0.036705, acc.: 100.00%] [G loss: 5.278288]\n",
            "4900 [D loss: 0.037558, acc.: 100.00%] [G loss: 5.680839]\n",
            "5000 [D loss: 0.038978, acc.: 100.00%] [G loss: 5.962358]\n",
            "5100 [D loss: 0.048884, acc.: 98.44%] [G loss: 5.858455]\n",
            "5200 [D loss: 0.018623, acc.: 100.00%] [G loss: 6.023874]\n",
            "5300 [D loss: 0.019781, acc.: 100.00%] [G loss: 5.668956]\n",
            "5400 [D loss: 0.024353, acc.: 100.00%] [G loss: 5.577880]\n",
            "5500 [D loss: 0.056510, acc.: 98.44%] [G loss: 5.216962]\n",
            "5600 [D loss: 0.039328, acc.: 98.44%] [G loss: 6.930537]\n",
            "5700 [D loss: 0.007011, acc.: 100.00%] [G loss: 6.568508]\n",
            "5800 [D loss: 0.060209, acc.: 100.00%] [G loss: 4.348150]\n",
            "5900 [D loss: 0.023494, acc.: 100.00%] [G loss: 5.211964]\n",
            "6000 [D loss: 0.039490, acc.: 100.00%] [G loss: 5.314095]\n",
            "6100 [D loss: 0.114391, acc.: 98.44%] [G loss: 6.289840]\n",
            "6200 [D loss: 0.025199, acc.: 100.00%] [G loss: 5.515892]\n",
            "6300 [D loss: 0.021201, acc.: 100.00%] [G loss: 5.238030]\n",
            "6400 [D loss: 0.030518, acc.: 100.00%] [G loss: 5.946805]\n",
            "6500 [D loss: 0.027369, acc.: 100.00%] [G loss: 6.211344]\n",
            "6600 [D loss: 0.043893, acc.: 98.44%] [G loss: 5.778023]\n",
            "6700 [D loss: 0.056977, acc.: 98.44%] [G loss: 5.656433]\n",
            "6800 [D loss: 0.021954, acc.: 100.00%] [G loss: 6.561371]\n",
            "6900 [D loss: 0.024711, acc.: 100.00%] [G loss: 5.706923]\n",
            "7000 [D loss: 0.047796, acc.: 98.44%] [G loss: 6.705101]\n",
            "7100 [D loss: 0.051905, acc.: 100.00%] [G loss: 5.475999]\n",
            "7200 [D loss: 0.015801, acc.: 100.00%] [G loss: 6.420760]\n",
            "7300 [D loss: 0.049366, acc.: 98.44%] [G loss: 5.633955]\n",
            "7400 [D loss: 0.024155, acc.: 100.00%] [G loss: 6.104058]\n",
            "7500 [D loss: 0.035725, acc.: 100.00%] [G loss: 6.721308]\n",
            "7600 [D loss: 0.003974, acc.: 100.00%] [G loss: 7.477337]\n",
            "7700 [D loss: 0.017090, acc.: 100.00%] [G loss: 6.142434]\n",
            "7800 [D loss: 0.018867, acc.: 100.00%] [G loss: 6.620251]\n",
            "7900 [D loss: 0.010682, acc.: 100.00%] [G loss: 7.276266]\n",
            "8000 [D loss: 0.020624, acc.: 100.00%] [G loss: 5.705913]\n",
            "8100 [D loss: 0.055305, acc.: 98.44%] [G loss: 5.869226]\n",
            "8200 [D loss: 0.031575, acc.: 100.00%] [G loss: 4.969626]\n",
            "8300 [D loss: 0.025596, acc.: 100.00%] [G loss: 5.581566]\n",
            "8400 [D loss: 0.072979, acc.: 96.88%] [G loss: 5.022596]\n",
            "8500 [D loss: 0.132786, acc.: 96.88%] [G loss: 7.573421]\n",
            "8600 [D loss: 0.029746, acc.: 100.00%] [G loss: 6.547841]\n",
            "8700 [D loss: 0.710983, acc.: 73.44%] [G loss: 5.988931]\n",
            "8800 [D loss: 0.035473, acc.: 100.00%] [G loss: 5.029188]\n",
            "8900 [D loss: 0.026872, acc.: 100.00%] [G loss: 5.946185]\n",
            "9000 [D loss: 0.035599, acc.: 100.00%] [G loss: 6.364126]\n",
            "9100 [D loss: 0.009790, acc.: 100.00%] [G loss: 7.151262]\n",
            "9200 [D loss: 0.004581, acc.: 100.00%] [G loss: 6.892732]\n",
            "9300 [D loss: 0.047836, acc.: 98.44%] [G loss: 5.487100]\n",
            "9400 [D loss: 0.030549, acc.: 100.00%] [G loss: 5.914950]\n",
            "9500 [D loss: 0.010364, acc.: 100.00%] [G loss: 5.695610]\n",
            "9600 [D loss: 0.022934, acc.: 98.44%] [G loss: 7.974813]\n",
            "9700 [D loss: 0.045883, acc.: 100.00%] [G loss: 6.039097]\n",
            "9800 [D loss: 0.021811, acc.: 100.00%] [G loss: 6.231477]\n",
            "9900 [D loss: 0.048152, acc.: 98.44%] [G loss: 4.717360]\n"
          ],
          "name": "stdout"
        }
      ]
    },
    {
      "cell_type": "markdown",
      "metadata": {
        "id": "eOFWuYsESq4t",
        "colab_type": "text"
      },
      "source": [
        "## Smooth Losses Graph"
      ]
    },
    {
      "cell_type": "code",
      "metadata": {
        "id": "Skps9lZrNeJM",
        "colab_type": "code",
        "outputId": "6b39a9d6-d942-4570-9d6d-5746e87f94e3",
        "colab": {
          "base_uri": "https://localhost:8080/",
          "height": 281
        }
      },
      "source": [
        "np_losses = np.asarray(losses)\n",
        "smooth_d_loss = np.linspace(0, np_losses.T[0].shape[0], 100)\n",
        "smooth_g_loss = np.linspace(0, np_losses.T[1].shape[0], 100)\n",
        "spl_d = make_interp_spline(list(range(1, np_losses.T[0].shape[0] + 1)), np_losses.T[0], k=3) #BSpline object\n",
        "spl_g = make_interp_spline(list(range(1, np_losses.T[1].shape[0] + 1)), np_losses.T[1], k=3) \n",
        "power_smooth_d = spl_d(smooth_d_loss)\n",
        "power_smooth_g = spl_g(smooth_g_loss)\n",
        "plt.plot(power_smooth_d, label='D loss')\n",
        "plt.plot(power_smooth_g, label='G loss')\n",
        "plt.title(\"Smooth Training Losses\")\n",
        "plt.legend()\n",
        "plt.show()"
      ],
      "execution_count": 86,
      "outputs": [
        {
          "output_type": "display_data",
          "data": {
            "image/png": "[encoded data removed]",
            "text/plain": [
              "<Figure size 432x288 with 1 Axes>"
            ]
          },
          "metadata": {
            "tags": []
          }
        }
      ]
    },
    {
      "cell_type": "markdown",
      "metadata": {
        "id": "uu2IQosAMzmU",
        "colab_type": "text"
      },
      "source": [
        "## Actual Losses Graph"
      ]
    },
    {
      "cell_type": "code",
      "metadata": {
        "colab_type": "code",
        "id": "CwwX1nvy9eZm",
        "outputId": "038e5ebc-5e04-4ab9-9f1c-c9c27be33f96",
        "colab": {
          "base_uri": "https://localhost:8080/",
          "height": 281
        }
      },
      "source": [
        "np_losses = np.asarray(losses)\n",
        "plt.plot(np_losses.T[0], label='D loss')\n",
        "plt.plot(np_losses.T[1], label='G loss')\n",
        "plt.title(\"Training Losses\")\n",
        "plt.legend()\n",
        "plt.show()"
      ],
      "execution_count": 87,
      "outputs": [
        {
          "output_type": "display_data",
          "data": {
            "image/png": "[encoded data removed]",
            "text/plain": [
              "<Figure size 432x288 with 1 Axes>"
            ]
          },
          "metadata": {
            "tags": []
          }
        }
      ]
    }
  ]
}