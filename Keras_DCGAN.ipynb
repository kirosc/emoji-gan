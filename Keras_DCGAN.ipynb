{
  "nbformat": 4,
  "nbformat_minor": 0,
  "metadata": {
    "colab": {
      "name": "Keras_DCGAN.ipynb",
      "provenance": [],
      "collapsed_sections": [],
      "toc_visible": true
    },
    "kernelspec": {
      "name": "python3",
      "display_name": "Python 3"
    },
    "accelerator": "GPU"
  },
  "cells": [
    {
      "cell_type": "code",
      "metadata": {
        "id": "s1qY7p6wHIHv",
        "colab_type": "code",
        "colab": {}
      },
      "source": [
        "#!rm -rf emoji-data\n",
        "#!rm -rf drive/My\\ Drive/Colab\\ Notebooks/output/*"
      ],
      "execution_count": 0,
      "outputs": []
    },
    {
      "cell_type": "code",
      "metadata": {
        "id": "fvcbPs4JN-ot",
        "colab_type": "code",
        "outputId": "82661c76-f123-4465-ef7e-da8e2b2c2b04",
        "colab": {
          "base_uri": "https://localhost:8080/",
          "height": 51
        }
      },
      "source": [
        "!git clone https://github.com/kirosc/emoji-gan.git\n",
        "!git clone https://github.com/iamcal/emoji-data.git"
      ],
      "execution_count": 81,
      "outputs": [
        {
          "output_type": "stream",
          "text": [
            "fatal: destination path 'emoji-gan' already exists and is not an empty directory.\n",
            "fatal: destination path 'emoji-data' already exists and is not an empty directory.\n"
          ],
          "name": "stdout"
        }
      ]
    },
    {
      "cell_type": "code",
      "metadata": {
        "id": "7rMpV0t7S9uB",
        "colab_type": "code",
        "colab": {}
      },
      "source": [
        "from __future__ import print_function, division\n",
        "\n",
        "from keras.datasets import mnist\n",
        "from keras.layers import Input, Dense, Reshape, Flatten, Dropout\n",
        "from keras.layers import BatchNormalization, Activation, ZeroPadding2D\n",
        "from keras.layers.advanced_activations import LeakyReLU\n",
        "from keras.layers.convolutional import UpSampling2D, Conv2D, Conv2DTranspose\n",
        "from keras.models import Sequential, Model\n",
        "from keras.optimizers import Adam\n",
        "from google.colab import drive, files\n",
        "from pprint import pprint\n",
        "from PIL import Image\n",
        "from matplotlib import pyplot as plt\n",
        "from scipy.interpolate import make_interp_spline, BSpline\n",
        "from sklearn.preprocessing import MultiLabelBinarizer\n",
        "\n",
        "import sys\n",
        "import numpy as np\n",
        "import pandas as pd \n",
        "import json\n",
        "import glob\n",
        "import random\n",
        "import os"
      ],
      "execution_count": 0,
      "outputs": []
    },
    {
      "cell_type": "code",
      "metadata": {
        "id": "TZZPyK_9zv9q",
        "colab_type": "code",
        "outputId": "d3cba62c-9b8c-4b5c-f861-f89fb79df115",
        "colab": {
          "base_uri": "https://localhost:8080/",
          "height": 34
        }
      },
      "source": [
        "from google.colab import drive\n",
        "drive.mount('/content/drive')"
      ],
      "execution_count": 83,
      "outputs": [
        {
          "output_type": "stream",
          "text": [
            "Drive already mounted at /content/drive; to attempt to forcibly remount, call drive.mount(\"/content/drive\", force_remount=True).\n"
          ],
          "name": "stdout"
        }
      ]
    },
    {
      "cell_type": "code",
      "metadata": {
        "id": "pVG9d6Cb4Z0_",
        "colab_type": "code",
        "colab": {}
      },
      "source": [
        "output_folder = '/content/drive/My Drive/Colab Notebooks/All output/output4/'"
      ],
      "execution_count": 0,
      "outputs": []
    },
    {
      "cell_type": "code",
      "metadata": {
        "id": "eGdi60jxV2tG",
        "colab_type": "code",
        "colab": {}
      },
      "source": [
        "df = pd.read_csv(\"emoji-gan/emoji_df_excel.csv\")\n",
        "df = df[:91]"
      ],
      "execution_count": 0,
      "outputs": []
    },
    {
      "cell_type": "code",
      "metadata": {
        "id": "_to4pNP3V2tJ",
        "colab_type": "code",
        "colab": {}
      },
      "source": [
        "one_hot = df.labels.str.split('\\s*,\\s*', expand=True) \\\n",
        "   .stack() \\\n",
        "   .str.get_dummies() \\\n",
        "   .sum(level=0)"
      ],
      "execution_count": 0,
      "outputs": []
    },
    {
      "cell_type": "code",
      "metadata": {
        "id": "gdJsK5acV2tL",
        "colab_type": "code",
        "colab": {}
      },
      "source": [
        "df = df.drop(columns='labels').join(one_hot, how='outer')"
      ],
      "execution_count": 0,
      "outputs": []
    },
    {
      "cell_type": "code",
      "metadata": {
        "id": "wFW8kSd4V2tP",
        "colab_type": "code",
        "colab": {}
      },
      "source": [
        "df = df.iloc[:, np.r_[4, 5:len(df.columns)]]"
      ],
      "execution_count": 0,
      "outputs": []
    },
    {
      "cell_type": "code",
      "metadata": {
        "id": "F9JIOLggaEwQ",
        "colab_type": "code",
        "colab": {}
      },
      "source": [
        "df['codepoints'] = df.iloc[:, 0].apply(lambda code: code.lower().replace(\" \", \"-\"))"
      ],
      "execution_count": 0,
      "outputs": []
    },
    {
      "cell_type": "code",
      "metadata": {
        "id": "zE3lHC3aynwF",
        "colab_type": "code",
        "colab": {}
      },
      "source": [
        "codepoints = df['codepoints'].tolist()"
      ],
      "execution_count": 0,
      "outputs": []
    },
    {
      "cell_type": "code",
      "metadata": {
        "id": "jO428NLVQwB8",
        "colab_type": "code",
        "colab": {}
      },
      "source": [
        "# filter only person emojis without tones\n",
        "with open('emoji-data/emoji.json') as data_file:\n",
        "    emojis = json.load(data_file)\n",
        "\n",
        "smileys = [e for e in emojis if e[\"unified\"].lower() in codepoints]\n",
        "\n",
        "# #smileys = [e for e in emojis if e[\"category\"] != \"Symbols\" and e[\"category\"] != \"Flags\" and e[\"category\"] != \"Regional\"]\n",
        "# smileys = [e for e in emojis if e[\"category\"] == \"Smileys & People\"]\n",
        "\n",
        "# # filter None value\n",
        "# smileys = [e for e in smileys if e[\"name\"]]\n",
        "\n",
        "# # filter for those with \"face\" in the name\n",
        "# smileys = [e for e in smileys if (\"FACE\" in e[\"name\"])]\n",
        "\n",
        "# pprint(\"minimized dictionary: {} left out of {} emojis\".format(len(smileys), len(emojis)))\n",
        "# # pprint(smileys[0])"
      ],
      "execution_count": 0,
      "outputs": []
    },
    {
      "cell_type": "code",
      "metadata": {
        "id": "qZ7SSuN-QfjU",
        "colab_type": "code",
        "colab": {}
      },
      "source": [
        "paths = [\n",
        "    \"emoji-data/img-apple-64\",\n",
        "    \"emoji-data/img-facebook-64\",\n",
        "    \"emoji-data/img-google-64\",\n",
        "    \"emoji-data/img-messenger-64\",\n",
        "    \"emoji-data/img-twitter-64\"\n",
        "]\n",
        "filenames = [s[\"image\"] for s in smileys]\n",
        "filepaths = []\n",
        "labels = []\n",
        "for p in paths:\n",
        "    image_paths = glob.glob(p + \"/*.png\")\n",
        "    filtered = [p for p in image_paths if p.split(\"/\")[-1] in filenames]\n",
        "    for f in filtered:\n",
        "      labels.append(f.split('/')[-1].split('.')[0])\n",
        "    filepaths = filepaths + filtered"
      ],
      "execution_count": 0,
      "outputs": []
    },
    {
      "cell_type": "markdown",
      "metadata": {
        "id": "6ekpX-p7cXNv",
        "colab_type": "text"
      },
      "source": [
        "## Create one-hot encoding labels"
      ]
    },
    {
      "cell_type": "code",
      "metadata": {
        "id": "fsutYKE9BgB8",
        "colab_type": "code",
        "colab": {
          "base_uri": "https://localhost:8080/",
          "height": 34
        },
        "outputId": "c941135d-da4d-46e5-a72b-35727397d2ad"
      },
      "source": [
        "one_hot = np.empty((1, 419), dtype=\"int32\")\n",
        "for label in labels:\n",
        "  label = df.loc[df['codepoints'] == label].drop(columns='codepoints')\n",
        "  label = label.to_numpy()\n",
        "  one_hot = np.concatenate((one_hot, label))\n",
        "\n",
        "one_hot = one_hot[1:]\n",
        "print(one_hot.shape)"
      ],
      "execution_count": 171,
      "outputs": [
        {
          "output_type": "stream",
          "text": [
            "(391, 419)\n"
          ],
          "name": "stdout"
        }
      ]
    },
    {
      "cell_type": "markdown",
      "metadata": {
        "id": "n3MJwiSYTOkb",
        "colab_type": "text"
      },
      "source": [
        "## Convert images to Numpy array"
      ]
    },
    {
      "cell_type": "code",
      "metadata": {
        "id": "Lxg0OtI0ZANU",
        "colab_type": "code",
        "colab": {}
      },
      "source": [
        "def load_image( infilename ) :\n",
        "    png = Image.open( infilename )\n",
        "    png.load()\n",
        "    # Change transparent pixel to white\n",
        "    background = Image.new(\"RGB\", png.size, (255, 255, 255))\n",
        "\n",
        "    # Strip the transparent channel\n",
        "    # Now the image has only 3 channels\n",
        "    background.paste(png, mask=png.getchannel('A'))\n",
        "    # Convert to numpy array\n",
        "    background = np.asarray( background, dtype=\"int16\" )\n",
        "    \n",
        "    return background"
      ],
      "execution_count": 0,
      "outputs": []
    },
    {
      "cell_type": "code",
      "metadata": {
        "id": "bn2FVs3MZGmd",
        "colab_type": "code",
        "outputId": "e2d1ecb4-6be5-4691-9367-ec0e489ac6d5",
        "colab": {
          "base_uri": "https://localhost:8080/",
          "height": 34
        }
      },
      "source": [
        "data = np.empty((0, 64, 64, 3), int)\n",
        "for file in filepaths:\n",
        "  img = load_image(file)\n",
        "  data = np.append(data, [img], axis=0)\n",
        "\n",
        "print(data.shape)"
      ],
      "execution_count": 94,
      "outputs": [
        {
          "output_type": "stream",
          "text": [
            "(391, 64, 64, 3)\n"
          ],
          "name": "stdout"
        }
      ]
    },
    {
      "cell_type": "code",
      "metadata": {
        "id": "7IqWZQpa3gHh",
        "colab_type": "code",
        "colab": {
          "base_uri": "https://localhost:8080/",
          "height": 269
        },
        "outputId": "f32dab0e-d786-486f-db03-395c5af94d13"
      },
      "source": [
        "plt.imshow(data[random.randint(0, data.shape[0] - 1)], interpolation='nearest')\n",
        "plt.show()\n",
        "# fig, axs = plt.subplots(r, c)\n",
        "# r = 58\n",
        "# c = 8\n",
        "# for i in range(r):\n",
        "#     for j in range(c):\n",
        "#         axs[i,j].imshow(data[i * c + j])\n",
        "#         axs[i,j].axis('off')\n",
        "\n",
        "# fig.savefig('foo1.png', dpi=1200)\n",
        "# plt.close()"
      ],
      "execution_count": 95,
      "outputs": [
        {
          "output_type": "display_data",
          "data": {
            "image/png": "[encoded data removed]",
            "text/plain": [
              "<Figure size 432x288 with 1 Axes>"
            ]
          },
          "metadata": {
            "tags": []
          }
        }
      ]
    },
    {
      "cell_type": "code",
      "metadata": {
        "id": "XK6Ksx3wOHts",
        "colab_type": "code",
        "colab": {}
      },
      "source": [
        "class DCGAN():\n",
        "    def __init__(self):\n",
        "        # Input shape\n",
        "        self.img_rows = 64\n",
        "        self.img_cols = 64\n",
        "        self.channels = 3\n",
        "        self.img_shape = (self.img_rows, self.img_cols, self.channels)\n",
        "        self.latent_dim = 100\n",
        "\n",
        "        optimizer = Adam(0.0001, 0.5)\n",
        "\n",
        "        # Build and compile the discriminator\n",
        "        self.discriminator = self.build_discriminator()\n",
        "        self.discriminator.compile(loss='binary_crossentropy',\n",
        "            optimizer=optimizer,\n",
        "            metrics=['accuracy'])\n",
        "\n",
        "        # Build the generator\n",
        "        self.generator = self.build_generator()\n",
        "\n",
        "        # The generator takes noise as input and generates imgs\n",
        "        z = Input(shape=(self.latent_dim,))\n",
        "        img = self.generator(z)\n",
        "\n",
        "        # For the combined model we will only train the generator\n",
        "        self.discriminator.trainable = False\n",
        "\n",
        "        # The discriminator takes generated images as input and determines validity\n",
        "        valid = self.discriminator(img)\n",
        "\n",
        "        # The combined model  (stacked generator and discriminator)\n",
        "        # Trains the generator to fool the discriminator\n",
        "        self.combined = Model(z, valid)\n",
        "        self.combined.compile(Adam(0.0002, 0.5), loss='binary_crossentropy')\n",
        "\n",
        "    def build_generator(self):\n",
        "\n",
        "        model = Sequential()\n",
        "        model.name=\"Generator\"\n",
        "\n",
        "        model.add(Dense(512 * 8 * 8, activation=\"relu\", input_dim=self.latent_dim))\n",
        "        model.add(Reshape((8, 8, 512)))\n",
        "\n",
        "        model.add(Conv2DTranspose(128, 5, strides=(2, 2), padding=\"same\"))\n",
        "        model.add(BatchNormalization(momentum=0.8))\n",
        "        model.add(LeakyReLU(alpha=0.2))\n",
        "\n",
        "        model.add(Conv2DTranspose(64, 5, strides=(2, 2), padding=\"same\"))\n",
        "        model.add(BatchNormalization(momentum=0.8))\n",
        "        model.add(LeakyReLU(alpha=0.2))\n",
        "\n",
        "        model.add(Conv2DTranspose(self.channels, kernel_size=5, strides=(2, 2), padding=\"same\"))\n",
        "        model.add(Activation(\"tanh\"))\n",
        "\n",
        "        model.summary()\n",
        "\n",
        "        noise = Input(shape=(self.latent_dim,))\n",
        "        img = model(noise)\n",
        "\n",
        "        return Model(noise, img)\n",
        "\n",
        "    def build_discriminator(self):\n",
        "\n",
        "        model = Sequential()\n",
        "        model.name=\"Discriminator\"\n",
        "\n",
        "        model.add(Conv2D(64, kernel_size=5, strides=2, input_shape=self.img_shape, padding=\"same\"))\n",
        "        model.add(LeakyReLU(alpha=0.2))\n",
        "        model.add(Dropout(0.25))\n",
        "\n",
        "        model.add(Conv2D(128, kernel_size=5, strides=2, padding=\"same\"))\n",
        "        model.add(BatchNormalization(momentum=0.8))\n",
        "        model.add(LeakyReLU(alpha=0.2))\n",
        "        model.add(Dropout(0.25))\n",
        "\n",
        "        model.add(Conv2D(256, kernel_size=5, strides=2, padding=\"same\"))\n",
        "        model.add(BatchNormalization(momentum=0.8))\n",
        "        model.add(LeakyReLU(alpha=0.2))\n",
        "        model.add(Dropout(0.25))\n",
        "\n",
        "        model.add(Flatten())\n",
        "        model.add(Dense(1, activation='sigmoid'))\n",
        "\n",
        "        model.summary()\n",
        "\n",
        "        img = Input(shape=self.img_shape)\n",
        "        validity = model(img)\n",
        "\n",
        "        return Model(img, validity)\n",
        "\n",
        "    def train(self, epochs, batch_size=128, save_interval=50):\n",
        "\n",
        "        # Load the dataset\n",
        "        X_train = data\n",
        "\n",
        "        # Rescale -1 to 1\n",
        "        X_train = X_train / 127.5 - 1.\n",
        "\n",
        "        # Adversarial ground truths\n",
        "        valid = np.ones((batch_size, 1))\n",
        "        fake = np.zeros((batch_size, 1))\n",
        "\n",
        "        # Store training losses here\n",
        "        losses = []\n",
        "\n",
        "        for epoch in range(epochs):\n",
        "\n",
        "            # ---------------------\n",
        "            #  Train Discriminator\n",
        "            # ---------------------\n",
        "\n",
        "            # Select a random half of images\n",
        "            idx = np.random.randint(0, X_train.shape[0], batch_size)\n",
        "            imgs = X_train[idx]\n",
        "\n",
        "            # Sample noise and generate a batch of new images\n",
        "            noise = np.random.normal(0, 1, (batch_size, self.latent_dim))\n",
        "            gen_imgs = self.generator.predict(noise)\n",
        "\n",
        "            # Train the discriminator (real classified as ones and generated as zeros)\n",
        "            d_loss_real = self.discriminator.train_on_batch(imgs, valid)\n",
        "            d_loss_fake = self.discriminator.train_on_batch(gen_imgs, fake)\n",
        "            d_loss = 0.5 * np.add(d_loss_real, d_loss_fake)\n",
        "\n",
        "            # ---------------------\n",
        "            #  Train Generator\n",
        "            # ---------------------\n",
        "\n",
        "            # Train the generator (wants discriminator to mistake images as real)\n",
        "            g_loss = self.combined.train_on_batch(noise, valid)\n",
        "\n",
        "            # Store the losses\n",
        "            losses.append((d_loss[0], g_loss))\n",
        "\n",
        "            # Plot the progress\n",
        "            if epoch % 100 == 0:\n",
        "              print (\"%d [D loss: %f, acc.: %.2f%%] [G loss: %f]\" % (epoch, d_loss[0], 100*d_loss[1], g_loss))\n",
        "\n",
        "            # If at save interval => save generated image samples\n",
        "            if epoch % save_interval == 0:\n",
        "                self.save_imgs(epoch)\n",
        "\n",
        "        return losses\n",
        "\n",
        "    def save_imgs(self, epoch):\n",
        "        if epoch is 0:\n",
        "          return\n",
        "        r, c = 5, 5\n",
        "        noise = np.random.normal(0, 1, (r * c, self.latent_dim))\n",
        "        gen_imgs = self.generator.predict(noise)\n",
        "\n",
        "        # # Rescale images 0 - 1\n",
        "        # gen_imgs = 0.5 * gen_imgs + 0.5\n",
        "        gen_imgs = (gen_imgs + 1) * 127.5\n",
        "\n",
        "        fig, axs = plt.subplots(r, c)\n",
        "        cnt = 0\n",
        "        for i in range(r):\n",
        "            for j in range(c):\n",
        "                axs[i,j].imshow(gen_imgs[cnt, :,:,:].astype(int))\n",
        "                axs[i,j].axis('off')\n",
        "                cnt += 1\n",
        "        \n",
        "        fig.savefig(output_folder + '{}.png'.format(epoch))\n",
        "        plt.close()"
      ],
      "execution_count": 0,
      "outputs": []
    },
    {
      "cell_type": "code",
      "metadata": {
        "id": "JGa5aXDnOPpF",
        "colab_type": "code",
        "outputId": "8bc95835-bdb9-41f5-9fa0-376f0ed55f76",
        "colab": {
          "base_uri": "https://localhost:8080/",
          "height": 1000
        }
      },
      "source": [
        "if __name__ == '__main__':\n",
        "    dcgan = DCGAN()\n",
        "    losses = dcgan.train(epochs=10000, batch_size=32, save_interval=100)"
      ],
      "execution_count": 98,
      "outputs": [
        {
          "output_type": "stream",
          "text": [
            "WARNING:tensorflow:From /usr/local/lib/python3.6/dist-packages/keras/backend/tensorflow_backend.py:66: The name tf.get_default_graph is deprecated. Please use tf.compat.v1.get_default_graph instead.\n",
            "\n",
            "WARNING:tensorflow:From /usr/local/lib/python3.6/dist-packages/keras/backend/tensorflow_backend.py:541: The name tf.placeholder is deprecated. Please use tf.compat.v1.placeholder instead.\n",
            "\n",
            "WARNING:tensorflow:From /usr/local/lib/python3.6/dist-packages/keras/backend/tensorflow_backend.py:4432: The name tf.random_uniform is deprecated. Please use tf.random.uniform instead.\n",
            "\n",
            "WARNING:tensorflow:From /usr/local/lib/python3.6/dist-packages/keras/backend/tensorflow_backend.py:148: The name tf.placeholder_with_default is deprecated. Please use tf.compat.v1.placeholder_with_default instead.\n",
            "\n",
            "WARNING:tensorflow:From /usr/local/lib/python3.6/dist-packages/keras/backend/tensorflow_backend.py:3733: calling dropout (from tensorflow.python.ops.nn_ops) with keep_prob is deprecated and will be removed in a future version.\n",
            "Instructions for updating:\n",
            "Please use `rate` instead of `keep_prob`. Rate should be set to `rate = 1 - keep_prob`.\n",
            "WARNING:tensorflow:From /usr/local/lib/python3.6/dist-packages/keras/backend/tensorflow_backend.py:190: The name tf.get_default_session is deprecated. Please use tf.compat.v1.get_default_session instead.\n",
            "\n",
            "WARNING:tensorflow:From /usr/local/lib/python3.6/dist-packages/keras/backend/tensorflow_backend.py:197: The name tf.ConfigProto is deprecated. Please use tf.compat.v1.ConfigProto instead.\n",
            "\n",
            "WARNING:tensorflow:From /usr/local/lib/python3.6/dist-packages/keras/backend/tensorflow_backend.py:203: The name tf.Session is deprecated. Please use tf.compat.v1.Session instead.\n",
            "\n",
            "WARNING:tensorflow:From /usr/local/lib/python3.6/dist-packages/keras/backend/tensorflow_backend.py:207: The name tf.global_variables is deprecated. Please use tf.compat.v1.global_variables instead.\n",
            "\n",
            "WARNING:tensorflow:From /usr/local/lib/python3.6/dist-packages/keras/backend/tensorflow_backend.py:216: The name tf.is_variable_initialized is deprecated. Please use tf.compat.v1.is_variable_initialized instead.\n",
            "\n",
            "WARNING:tensorflow:From /usr/local/lib/python3.6/dist-packages/keras/backend/tensorflow_backend.py:223: The name tf.variables_initializer is deprecated. Please use tf.compat.v1.variables_initializer instead.\n",
            "\n",
            "WARNING:tensorflow:From /usr/local/lib/python3.6/dist-packages/keras/backend/tensorflow_backend.py:2041: The name tf.nn.fused_batch_norm is deprecated. Please use tf.compat.v1.nn.fused_batch_norm instead.\n",
            "\n",
            "Model: \"Discriminator\"\n",
            "_________________________________________________________________\n",
            "Layer (type)                 Output Shape              Param #   \n",
            "=================================================================\n",
            "conv2d_1 (Conv2D)            (None, 32, 32, 64)        4864      \n",
            "_________________________________________________________________\n",
            "leaky_re_lu_1 (LeakyReLU)    (None, 32, 32, 64)        0         \n",
            "_________________________________________________________________\n",
            "dropout_1 (Dropout)          (None, 32, 32, 64)        0         \n",
            "_________________________________________________________________\n",
            "conv2d_2 (Conv2D)            (None, 16, 16, 128)       204928    \n",
            "_________________________________________________________________\n",
            "batch_normalization_1 (Batch (None, 16, 16, 128)       512       \n",
            "_________________________________________________________________\n",
            "leaky_re_lu_2 (LeakyReLU)    (None, 16, 16, 128)       0         \n",
            "_________________________________________________________________\n",
            "dropout_2 (Dropout)          (None, 16, 16, 128)       0         \n",
            "_________________________________________________________________\n",
            "conv2d_3 (Conv2D)            (None, 8, 8, 256)         819456    \n",
            "_________________________________________________________________\n",
            "batch_normalization_2 (Batch (None, 8, 8, 256)         1024      \n",
            "_________________________________________________________________\n",
            "leaky_re_lu_3 (LeakyReLU)    (None, 8, 8, 256)         0         \n",
            "_________________________________________________________________\n",
            "dropout_3 (Dropout)          (None, 8, 8, 256)         0         \n",
            "_________________________________________________________________\n",
            "flatten_1 (Flatten)          (None, 16384)             0         \n",
            "_________________________________________________________________\n",
            "dense_1 (Dense)              (None, 1)                 16385     \n",
            "=================================================================\n",
            "Total params: 1,047,169\n",
            "Trainable params: 1,046,401\n",
            "Non-trainable params: 768\n",
            "_________________________________________________________________\n",
            "WARNING:tensorflow:From /usr/local/lib/python3.6/dist-packages/keras/optimizers.py:793: The name tf.train.Optimizer is deprecated. Please use tf.compat.v1.train.Optimizer instead.\n",
            "\n",
            "WARNING:tensorflow:From /usr/local/lib/python3.6/dist-packages/keras/backend/tensorflow_backend.py:3657: The name tf.log is deprecated. Please use tf.math.log instead.\n",
            "\n",
            "WARNING:tensorflow:From /usr/local/lib/python3.6/dist-packages/tensorflow_core/python/ops/nn_impl.py:183: where (from tensorflow.python.ops.array_ops) is deprecated and will be removed in a future version.\n",
            "Instructions for updating:\n",
            "Use tf.where in 2.0, which has the same broadcast rule as np.where\n",
            "Model: \"Generator\"\n",
            "_________________________________________________________________\n",
            "Layer (type)                 Output Shape              Param #   \n",
            "=================================================================\n",
            "dense_2 (Dense)              (None, 32768)             3309568   \n",
            "_________________________________________________________________\n",
            "reshape_1 (Reshape)          (None, 8, 8, 512)         0         \n",
            "_________________________________________________________________\n",
            "conv2d_transpose_1 (Conv2DTr (None, 16, 16, 128)       1638528   \n",
            "_________________________________________________________________\n",
            "batch_normalization_3 (Batch (None, 16, 16, 128)       512       \n",
            "_________________________________________________________________\n",
            "leaky_re_lu_4 (LeakyReLU)    (None, 16, 16, 128)       0         \n",
            "_________________________________________________________________\n",
            "conv2d_transpose_2 (Conv2DTr (None, 32, 32, 64)        204864    \n",
            "_________________________________________________________________\n",
            "batch_normalization_4 (Batch (None, 32, 32, 64)        256       \n",
            "_________________________________________________________________\n",
            "leaky_re_lu_5 (LeakyReLU)    (None, 32, 32, 64)        0         \n",
            "_________________________________________________________________\n",
            "conv2d_transpose_3 (Conv2DTr (None, 64, 64, 3)         4803      \n",
            "_________________________________________________________________\n",
            "activation_1 (Activation)    (None, 64, 64, 3)         0         \n",
            "=================================================================\n",
            "Total params: 5,158,531\n",
            "Trainable params: 5,158,147\n",
            "Non-trainable params: 384\n",
            "_________________________________________________________________\n"
          ],
          "name": "stdout"
        },
        {
          "output_type": "stream",
          "text": [
            "/usr/local/lib/python3.6/dist-packages/keras/engine/training.py:493: UserWarning: Discrepancy between trainable weights and collected trainable weights, did you set `model.trainable` without calling `model.compile` after ?\n",
            "  'Discrepancy between trainable weights and collected trainable'\n"
          ],
          "name": "stderr"
        },
        {
          "output_type": "stream",
          "text": [
            "WARNING:tensorflow:From /usr/local/lib/python3.6/dist-packages/keras/backend/tensorflow_backend.py:1033: The name tf.assign_add is deprecated. Please use tf.compat.v1.assign_add instead.\n",
            "\n",
            "WARNING:tensorflow:From /usr/local/lib/python3.6/dist-packages/keras/backend/tensorflow_backend.py:1020: The name tf.assign is deprecated. Please use tf.compat.v1.assign instead.\n",
            "\n"
          ],
          "name": "stdout"
        },
        {
          "output_type": "stream",
          "text": [
            "/usr/local/lib/python3.6/dist-packages/keras/engine/training.py:493: UserWarning: Discrepancy between trainable weights and collected trainable weights, did you set `model.trainable` without calling `model.compile` after ?\n",
            "  'Discrepancy between trainable weights and collected trainable'\n"
          ],
          "name": "stderr"
        },
        {
          "output_type": "stream",
          "text": [
            "0 [D loss: 0.845819, acc.: 39.06%] [G loss: 0.656352]\n"
          ],
          "name": "stdout"
        },
        {
          "output_type": "stream",
          "text": [
            "/usr/local/lib/python3.6/dist-packages/keras/engine/training.py:493: UserWarning: Discrepancy between trainable weights and collected trainable weights, did you set `model.trainable` without calling `model.compile` after ?\n",
            "  'Discrepancy between trainable weights and collected trainable'\n"
          ],
          "name": "stderr"
        },
        {
          "output_type": "stream",
          "text": [
            "100 [D loss: 0.332645, acc.: 85.94%] [G loss: 3.589015]\n",
            "200 [D loss: 0.776184, acc.: 54.69%] [G loss: 3.004806]\n",
            "300 [D loss: 0.193219, acc.: 93.75%] [G loss: 3.605586]\n",
            "400 [D loss: 0.275138, acc.: 89.06%] [G loss: 2.451473]\n",
            "500 [D loss: 0.363864, acc.: 79.69%] [G loss: 4.040025]\n",
            "600 [D loss: 0.356776, acc.: 84.38%] [G loss: 3.034753]\n",
            "700 [D loss: 0.327797, acc.: 89.06%] [G loss: 3.221148]\n",
            "800 [D loss: 0.168888, acc.: 96.88%] [G loss: 3.830078]\n",
            "900 [D loss: 0.207422, acc.: 90.62%] [G loss: 4.052353]\n",
            "1000 [D loss: 0.298401, acc.: 89.06%] [G loss: 3.874584]\n",
            "1100 [D loss: 0.423921, acc.: 89.06%] [G loss: 3.050219]\n",
            "1200 [D loss: 0.140529, acc.: 96.88%] [G loss: 4.188978]\n",
            "1300 [D loss: 0.211622, acc.: 93.75%] [G loss: 3.778479]\n",
            "1400 [D loss: 0.171171, acc.: 93.75%] [G loss: 2.870829]\n",
            "1500 [D loss: 0.087053, acc.: 100.00%] [G loss: 4.080914]\n",
            "1600 [D loss: 0.557144, acc.: 73.44%] [G loss: 4.574512]\n",
            "1700 [D loss: 0.238580, acc.: 92.19%] [G loss: 3.217834]\n",
            "1800 [D loss: 0.397922, acc.: 82.81%] [G loss: 4.915294]\n",
            "1900 [D loss: 0.116779, acc.: 98.44%] [G loss: 3.482836]\n",
            "2000 [D loss: 0.196179, acc.: 92.19%] [G loss: 4.044516]\n",
            "2100 [D loss: 0.235740, acc.: 89.06%] [G loss: 4.605364]\n",
            "2200 [D loss: 0.249073, acc.: 90.62%] [G loss: 3.014852]\n",
            "2300 [D loss: 0.078176, acc.: 98.44%] [G loss: 4.440878]\n",
            "2400 [D loss: 0.154304, acc.: 98.44%] [G loss: 4.761641]\n",
            "2500 [D loss: 0.146425, acc.: 98.44%] [G loss: 4.589918]\n",
            "2600 [D loss: 0.053270, acc.: 100.00%] [G loss: 4.655616]\n",
            "2700 [D loss: 0.147200, acc.: 96.88%] [G loss: 6.625798]\n",
            "2800 [D loss: 0.075276, acc.: 100.00%] [G loss: 4.642145]\n",
            "2900 [D loss: 0.198332, acc.: 93.75%] [G loss: 4.563903]\n",
            "3000 [D loss: 0.092169, acc.: 95.31%] [G loss: 4.789731]\n",
            "3100 [D loss: 0.157205, acc.: 96.88%] [G loss: 3.734445]\n",
            "3200 [D loss: 0.057233, acc.: 100.00%] [G loss: 5.169103]\n",
            "3300 [D loss: 0.063638, acc.: 98.44%] [G loss: 4.967713]\n",
            "3400 [D loss: 0.054032, acc.: 100.00%] [G loss: 4.959190]\n",
            "3500 [D loss: 0.065175, acc.: 100.00%] [G loss: 4.535301]\n",
            "3600 [D loss: 0.114074, acc.: 96.88%] [G loss: 6.521973]\n",
            "3700 [D loss: 0.049249, acc.: 100.00%] [G loss: 5.548008]\n",
            "3800 [D loss: 0.070755, acc.: 100.00%] [G loss: 5.475137]\n",
            "3900 [D loss: 0.048668, acc.: 100.00%] [G loss: 4.243733]\n",
            "4000 [D loss: 0.022339, acc.: 100.00%] [G loss: 5.878341]\n",
            "4100 [D loss: 0.062763, acc.: 100.00%] [G loss: 5.002345]\n",
            "4200 [D loss: 0.099097, acc.: 100.00%] [G loss: 4.601826]\n",
            "4300 [D loss: 0.087492, acc.: 98.44%] [G loss: 4.836316]\n",
            "4400 [D loss: 0.268351, acc.: 85.94%] [G loss: 5.253980]\n",
            "4500 [D loss: 0.096707, acc.: 98.44%] [G loss: 4.584055]\n",
            "4600 [D loss: 0.049007, acc.: 98.44%] [G loss: 5.404928]\n",
            "4700 [D loss: 0.051514, acc.: 100.00%] [G loss: 4.679249]\n",
            "4800 [D loss: 0.141082, acc.: 93.75%] [G loss: 8.068064]\n",
            "4900 [D loss: 0.056798, acc.: 100.00%] [G loss: 4.153159]\n",
            "5000 [D loss: 0.067065, acc.: 98.44%] [G loss: 5.537604]\n",
            "5100 [D loss: 0.017551, acc.: 100.00%] [G loss: 5.873368]\n",
            "5200 [D loss: 0.053610, acc.: 100.00%] [G loss: 5.820712]\n",
            "5300 [D loss: 0.037627, acc.: 100.00%] [G loss: 5.376923]\n",
            "5400 [D loss: 0.069093, acc.: 96.88%] [G loss: 4.996886]\n",
            "5500 [D loss: 0.122782, acc.: 96.88%] [G loss: 4.989031]\n",
            "5600 [D loss: 0.037923, acc.: 100.00%] [G loss: 5.648332]\n",
            "5700 [D loss: 0.034661, acc.: 100.00%] [G loss: 5.648218]\n",
            "5800 [D loss: 1.019252, acc.: 65.62%] [G loss: 2.668495]\n",
            "5900 [D loss: 0.081344, acc.: 98.44%] [G loss: 5.023026]\n",
            "6000 [D loss: 0.037625, acc.: 100.00%] [G loss: 6.653935]\n",
            "6100 [D loss: 0.032587, acc.: 100.00%] [G loss: 7.692722]\n",
            "6200 [D loss: 0.092054, acc.: 100.00%] [G loss: 4.810780]\n",
            "6300 [D loss: 0.095308, acc.: 98.44%] [G loss: 5.662194]\n",
            "6400 [D loss: 0.049194, acc.: 100.00%] [G loss: 5.100965]\n",
            "6500 [D loss: 0.092460, acc.: 96.88%] [G loss: 6.069950]\n",
            "6600 [D loss: 0.057987, acc.: 98.44%] [G loss: 5.321445]\n",
            "6700 [D loss: 0.029426, acc.: 100.00%] [G loss: 5.822110]\n",
            "6800 [D loss: 0.053358, acc.: 100.00%] [G loss: 5.889130]\n",
            "6900 [D loss: 0.026683, acc.: 100.00%] [G loss: 6.956368]\n",
            "7000 [D loss: 0.070006, acc.: 96.88%] [G loss: 6.664832]\n",
            "7100 [D loss: 0.029630, acc.: 100.00%] [G loss: 6.348490]\n",
            "7200 [D loss: 0.029957, acc.: 100.00%] [G loss: 4.454452]\n",
            "7300 [D loss: 0.084945, acc.: 96.88%] [G loss: 4.629205]\n",
            "7400 [D loss: 0.013155, acc.: 100.00%] [G loss: 7.105279]\n",
            "7500 [D loss: 0.025378, acc.: 100.00%] [G loss: 5.455478]\n",
            "7600 [D loss: 0.017775, acc.: 100.00%] [G loss: 5.860086]\n",
            "7700 [D loss: 0.010615, acc.: 100.00%] [G loss: 6.085257]\n",
            "7800 [D loss: 0.554229, acc.: 75.00%] [G loss: 7.071001]\n",
            "7900 [D loss: 0.143463, acc.: 95.31%] [G loss: 6.528271]\n",
            "8000 [D loss: 0.037369, acc.: 98.44%] [G loss: 6.036306]\n",
            "8100 [D loss: 0.047078, acc.: 98.44%] [G loss: 6.413794]\n",
            "8200 [D loss: 0.021906, acc.: 100.00%] [G loss: 5.691552]\n",
            "8300 [D loss: 0.008290, acc.: 100.00%] [G loss: 6.257794]\n",
            "8400 [D loss: 0.094148, acc.: 95.31%] [G loss: 9.672248]\n",
            "8500 [D loss: 0.035140, acc.: 98.44%] [G loss: 6.796473]\n",
            "8600 [D loss: 0.058398, acc.: 98.44%] [G loss: 6.432562]\n",
            "8700 [D loss: 0.018091, acc.: 100.00%] [G loss: 6.749300]\n",
            "8800 [D loss: 0.023283, acc.: 100.00%] [G loss: 5.548613]\n",
            "8900 [D loss: 0.086668, acc.: 100.00%] [G loss: 5.001554]\n",
            "9000 [D loss: 0.014477, acc.: 100.00%] [G loss: 6.012789]\n",
            "9100 [D loss: 0.015633, acc.: 100.00%] [G loss: 7.685351]\n",
            "9200 [D loss: 0.013365, acc.: 100.00%] [G loss: 6.921244]\n",
            "9300 [D loss: 0.021081, acc.: 100.00%] [G loss: 7.306484]\n",
            "9400 [D loss: 0.037416, acc.: 100.00%] [G loss: 6.139872]\n",
            "9500 [D loss: 0.025455, acc.: 100.00%] [G loss: 6.595100]\n",
            "9600 [D loss: 0.044008, acc.: 98.44%] [G loss: 6.474665]\n",
            "9700 [D loss: 0.014040, acc.: 100.00%] [G loss: 7.762711]\n",
            "9800 [D loss: 0.046801, acc.: 100.00%] [G loss: 6.642153]\n",
            "9900 [D loss: 0.017591, acc.: 100.00%] [G loss: 5.419239]\n"
          ],
          "name": "stdout"
        }
      ]
    },
    {
      "cell_type": "markdown",
      "metadata": {
        "id": "eOFWuYsESq4t",
        "colab_type": "text"
      },
      "source": [
        "## Smooth Losses Graph"
      ]
    },
    {
      "cell_type": "code",
      "metadata": {
        "id": "Skps9lZrNeJM",
        "colab_type": "code",
        "outputId": "b34b7e30-dad1-4b75-c948-4e8c5bb9b54a",
        "colab": {
          "base_uri": "https://localhost:8080/",
          "height": 298
        }
      },
      "source": [
        "np_losses = np.asarray(losses)\n",
        "smooth_d_loss = np.linspace(0, np_losses.T[0].shape[0], 100)\n",
        "smooth_g_loss = np.linspace(0, np_losses.T[1].shape[0], 100)\n",
        "spl_d = make_interp_spline(list(range(1, np_losses.T[0].shape[0] + 1)), np_losses.T[0], k=3) #BSpline object\n",
        "spl_g = make_interp_spline(list(range(1, np_losses.T[1].shape[0] + 1)), np_losses.T[1], k=3) \n",
        "power_smooth_d = spl_d(smooth_d_loss)\n",
        "power_smooth_g = spl_g(smooth_g_loss)\n",
        "plt.plot(power_smooth_d, label='D loss')\n",
        "plt.plot(power_smooth_g, label='G loss')\n",
        "plt.title(\"Smooth Training Losses\")\n",
        "plt.legend()\n",
        "plt.show()\n",
        "plt.savefig(output_folder + 'loss_smooth.png')"
      ],
      "execution_count": 99,
      "outputs": [
        {
          "output_type": "display_data",
          "data": {
            "image/png": "[encoded data removed]",
            "text/plain": [
              "<Figure size 432x288 with 1 Axes>"
            ]
          },
          "metadata": {
            "tags": []
          }
        },
        {
          "output_type": "display_data",
          "data": {
            "text/plain": [
              "<Figure size 432x288 with 0 Axes>"
            ]
          },
          "metadata": {
            "tags": []
          }
        }
      ]
    },
    {
      "cell_type": "markdown",
      "metadata": {
        "id": "uu2IQosAMzmU",
        "colab_type": "text"
      },
      "source": [
        "## Actual Losses Graph"
      ]
    },
    {
      "cell_type": "code",
      "metadata": {
        "colab_type": "code",
        "id": "CwwX1nvy9eZm",
        "outputId": "2b7b4359-30cc-47e7-8893-f5a15c7d4cdd",
        "colab": {
          "base_uri": "https://localhost:8080/",
          "height": 298
        }
      },
      "source": [
        "np_losses = np.asarray(losses)\n",
        "plt.plot(np_losses.T[0], label='D loss')\n",
        "plt.plot(np_losses.T[1], label='G loss')\n",
        "plt.title(\"Training Losses\")\n",
        "plt.legend()\n",
        "plt.show()\n",
        "plt.savefig(output_folder + 'loss_actual.png')"
      ],
      "execution_count": 100,
      "outputs": [
        {
          "output_type": "display_data",
          "data": {
            "image/png": "[encoded data removed]",
            "text/plain": [
              "<Figure size 432x288 with 1 Axes>"
            ]
          },
          "metadata": {
            "tags": []
          }
        },
        {
          "output_type": "display_data",
          "data": {
            "text/plain": [
              "<Figure size 432x288 with 0 Axes>"
            ]
          },
          "metadata": {
            "tags": []
          }
        }
      ]
    }
  ]
}